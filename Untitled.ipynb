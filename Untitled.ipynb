{
 "cells": [
  {
   "cell_type": "code",
   "execution_count": null,
   "id": "cb8fd3eb-3205-42f0-ba38-f02d96f5793e",
   "metadata": {
    "tags": []
   },
   "outputs": [],
   "source": [
    "%pip install tokenizers"
   ]
  },
  {
   "cell_type": "code",
   "execution_count": 12,
   "id": "fdb3214b-3bd2-4851-8b93-90c5b2ff0588",
   "metadata": {},
   "outputs": [
    {
     "name": "stdout",
     "output_type": "stream",
     "text": [
      "Training Sentiment Classifier on SST...\n",
      "Using device:  cuda\n",
      "load 8544 data from data/ids-sst-train.csv\n",
      "load 1101 data from data/ids-sst-dev.csv\n",
      "load model from models/sst-classifier.pt\n",
      "train-0: 100%|████████████████████████████████| 534/534 [01:00<00:00,  8.85it/s]\n",
      "eval: 100%|███████████████████████████████████| 534/534 [00:22<00:00, 23.67it/s]\n",
      "eval: 100%|█████████████████████████████████████| 69/69 [00:02<00:00, 24.27it/s]\n",
      "save the model to models/sst-classifier.pt\n",
      "Epoch 0: train loss :: 1.6090989182057898, train acc :: 0.25959737827715357, dev acc :: 0.26248864668483196\n",
      "train-1: 100%|████████████████████████████████| 534/534 [01:00<00:00,  8.76it/s]\n",
      "eval: 100%|█████████████████████████████████████| 69/69 [00:02<00:00, 24.05it/s]\n",
      "Epoch 1: train loss :: 1.6127469508388963, train acc :: 0.25959737827715357, dev acc :: 0.26248864668483196\n",
      "train-2: 100%|████████████████████████████████| 534/534 [01:01<00:00,  8.68it/s]\n",
      "eval: 100%|█████████████████████████████████████| 69/69 [00:02<00:00, 23.38it/s]\n",
      "Epoch 2: train loss :: 1.610933187972294, train acc :: 0.25959737827715357, dev acc :: 0.26248864668483196\n",
      "train-3: 100%|████████████████████████████████| 534/534 [01:04<00:00,  8.31it/s]\n",
      "eval: 100%|███████████████████████████████████| 534/534 [00:23<00:00, 22.45it/s]\n",
      "eval: 100%|█████████████████████████████████████| 69/69 [00:03<00:00, 22.89it/s]\n",
      "Epoch 3: train loss :: 1.6112474732184678, train acc :: 0.25959737827715357, dev acc :: 0.26248864668483196\n",
      "train-4:  55%|█████████████████▌              | 294/534 [00:35<00:26,  8.94it/s]^C\n",
      "train-4:  55%|█████████████████▌              | 294/534 [00:35<00:28,  8.30it/s]\n",
      "Traceback (most recent call last):\n",
      "  File \"classifier1.py\", line 406, in <module>\n",
      "    train(config)\n",
      "  File \"classifier1.py\", line 305, in train\n",
      "    loss.backward()\n",
      "  File \"/opt/conda/envs/sagemaker-distribution/lib/python3.8/site-packages/torch/_tensor.py\", line 487, in backward\n",
      "    torch.autograd.backward(\n",
      "  File \"/opt/conda/envs/sagemaker-distribution/lib/python3.8/site-packages/torch/autograd/__init__.py\", line 200, in backward\n",
      "    Variable._execution_engine.run_backward(  # Calls into the C++ engine to run the backward pass\n",
      "KeyboardInterrupt\n"
     ]
    }
   ],
   "source": [
    "!python classifier1.py --option finetune --epochs 10 --lr 0.001 --batch_size 16 --hidden_dropout_prob 0.2 --load_model"
   ]
  },
  {
   "cell_type": "code",
   "execution_count": 1,
   "id": "f5c5c8c4-ac90-4151-a84d-62a42350315d",
   "metadata": {},
   "outputs": [
    {
     "data": {
      "text/plain": [
       "True"
      ]
     },
     "execution_count": 1,
     "metadata": {},
     "output_type": "execute_result"
    }
   ],
   "source": []
  },
  {
   "cell_type": "code",
   "execution_count": null,
   "id": "5af0dff8-235e-4db2-9d25-57c52bf135d9",
   "metadata": {},
   "outputs": [],
   "source": []
  }
 ],
 "metadata": {
  "kernelspec": {
   "display_name": "sagemaker-distribution:Python",
   "language": "python",
   "name": "conda-env-sagemaker-distribution-py"
  },
  "language_info": {
   "codemirror_mode": {
    "name": "ipython",
    "version": 3
   },
   "file_extension": ".py",
   "mimetype": "text/x-python",
   "name": "python",
   "nbconvert_exporter": "python",
   "pygments_lexer": "ipython3",
   "version": "3.8.17"
  }
 },
 "nbformat": 4,
 "nbformat_minor": 5
}
